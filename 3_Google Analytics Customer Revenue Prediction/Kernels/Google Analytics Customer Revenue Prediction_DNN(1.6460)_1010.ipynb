{
 "cells": [
  {
   "cell_type": "code",
   "execution_count": 1,
   "metadata": {},
   "outputs": [],
   "source": [
    "import pandas as pd\n",
    "import numpy as np\n",
    "import torch\n",
    "import torch.nn as nn\n",
    "import torch.optim as optim\n",
    "from torch.autograd import Variable \n",
    "from torch.utils.data import DataLoader, Dataset"
   ]
  },
  {
   "cell_type": "code",
   "execution_count": 2,
   "metadata": {},
   "outputs": [],
   "source": [
    "x_train = pd.read_csv('../data/x_train_std_1009.csv')\n",
    "x_test = pd.read_csv('../data/x_test_std_1009.csv')"
   ]
  },
  {
   "cell_type": "code",
   "execution_count": 3,
   "metadata": {},
   "outputs": [],
   "source": [
    "y_train = pd.read_csv('../data/y_train_1009.csv')\n",
    "ID_test = pd.read_csv('../data/ID_test_1009.csv')"
   ]
  },
  {
   "cell_type": "code",
   "execution_count": 4,
   "metadata": {},
   "outputs": [
    {
     "data": {
      "text/plain": [
       "((903653, 55), (804684, 55), (903653, 1), (804684, 1))"
      ]
     },
     "execution_count": 4,
     "metadata": {},
     "output_type": "execute_result"
    }
   ],
   "source": [
    "x_train.shape, x_test.shape,y_train.shape, ID_test.shape"
   ]
  },
  {
   "cell_type": "code",
   "execution_count": 5,
   "metadata": {},
   "outputs": [],
   "source": [
    "x_train = Variable(torch.FloatTensor(x_train.values))\n",
    "y_train = Variable(torch.FloatTensor(y_train.values))\n",
    "y_train = y_train.view(-1,1)\n",
    "x_test= Variable(torch.FloatTensor(x_test.values))"
   ]
  },
  {
   "cell_type": "code",
   "execution_count": 6,
   "metadata": {},
   "outputs": [
    {
     "data": {
      "text/plain": [
       "torch.Size([804684, 55])"
      ]
     },
     "execution_count": 6,
     "metadata": {},
     "output_type": "execute_result"
    }
   ],
   "source": [
    "x_test.size()"
   ]
  },
  {
   "cell_type": "code",
   "execution_count": 7,
   "metadata": {},
   "outputs": [
    {
     "data": {
      "text/plain": [
       "torch.Size([903653, 55])"
      ]
     },
     "execution_count": 7,
     "metadata": {},
     "output_type": "execute_result"
    }
   ],
   "source": [
    "x_train.size()"
   ]
  },
  {
   "cell_type": "code",
   "execution_count": 8,
   "metadata": {},
   "outputs": [
    {
     "data": {
      "text/plain": [
       "torch.Size([903653, 1])"
      ]
     },
     "execution_count": 8,
     "metadata": {},
     "output_type": "execute_result"
    }
   ],
   "source": [
    "y_train.size()"
   ]
  },
  {
   "cell_type": "code",
   "execution_count": 9,
   "metadata": {},
   "outputs": [],
   "source": [
    "class dataset(Dataset):\n",
    "    def __init__(self):\n",
    "        self.len = x_train.size()[0]\n",
    "        self.x=x_train\n",
    "        self.y=y_train\n",
    "        \n",
    "    def __getitem__(self, index):\n",
    "        return self.x[index], self.y[index]\n",
    "    \n",
    "    def __len__(self):\n",
    "        return self.len\n",
    "\n",
    "dataset = dataset()\n",
    "train_loader = DataLoader(dataset=dataset, batch_size=100, num_workers=2)"
   ]
  },
  {
   "cell_type": "code",
   "execution_count": 10,
   "metadata": {},
   "outputs": [],
   "source": [
    "class Model(nn.Module):\n",
    "    def __init__(self):\n",
    "        super(Model, self).__init__()\n",
    "        self.layers = nn.Sequential(\n",
    "                                nn.Linear(55,100),\n",
    "                                nn.ReLU(),\n",
    "                                nn.Linear(100,150),\n",
    "                                nn.ReLU(),\n",
    "                                nn.Linear(150,200),\n",
    "                                nn.ReLU(),\n",
    "                                nn.Linear(200,150),\n",
    "                                nn.ReLU(),\n",
    "                                nn.Linear(150,100),\n",
    "                                nn.ReLU(),\n",
    "                                nn.Linear(100,50),\n",
    "                                nn.ReLU(),\n",
    "                                nn.Linear(50,1),\n",
    "        )\n",
    "    def forward(self,x):\n",
    "        out = self.layers(x)\n",
    "        return out\n",
    "\n",
    "model = Model()"
   ]
  },
  {
   "cell_type": "code",
   "execution_count": 11,
   "metadata": {},
   "outputs": [
    {
     "data": {
      "text/plain": [
       "Model(\n",
       "  (layers): Sequential(\n",
       "    (0): Linear(in_features=55, out_features=100, bias=True)\n",
       "    (1): ReLU()\n",
       "    (2): Linear(in_features=100, out_features=150, bias=True)\n",
       "    (3): ReLU()\n",
       "    (4): Linear(in_features=150, out_features=200, bias=True)\n",
       "    (5): ReLU()\n",
       "    (6): Linear(in_features=200, out_features=150, bias=True)\n",
       "    (7): ReLU()\n",
       "    (8): Linear(in_features=150, out_features=100, bias=True)\n",
       "    (9): ReLU()\n",
       "    (10): Linear(in_features=100, out_features=50, bias=True)\n",
       "    (11): ReLU()\n",
       "    (12): Linear(in_features=50, out_features=1, bias=True)\n",
       "  )\n",
       ")"
      ]
     },
     "execution_count": 11,
     "metadata": {},
     "output_type": "execute_result"
    }
   ],
   "source": [
    "model"
   ]
  },
  {
   "cell_type": "code",
   "execution_count": 12,
   "metadata": {},
   "outputs": [],
   "source": [
    "loss_func = nn.MSELoss(size_average=False)\n",
    "optimizer = optim.SGD(model.parameters(), lr=0.000001)"
   ]
  },
  {
   "cell_type": "code",
   "execution_count": 24,
   "metadata": {},
   "outputs": [
    {
     "name": "stdout",
     "output_type": "stream",
     "text": [
      "0 0 tensor(1.00000e-02 *\n",
      "       1.6139)\n",
      "0 1000 tensor(1.00000e-02 *\n",
      "       2.6415)\n",
      "0 2000 tensor(1.00000e-03 *\n",
      "       7.0290)\n",
      "0 3000 tensor(0.1227)\n",
      "0 4000 tensor(1.00000e-02 *\n",
      "       2.1846)\n",
      "0 5000 tensor(1.00000e-03 *\n",
      "       9.5296)\n",
      "0 6000 tensor(1.00000e-03 *\n",
      "       3.4960)\n",
      "0 7000 tensor(1.00000e-03 *\n",
      "       7.8686)\n",
      "0 8000 tensor(1.00000e-03 *\n",
      "       3.9318)\n",
      "0 9000 tensor(1.00000e-02 *\n",
      "       1.0819)\n",
      "1 0 tensor(1.00000e-02 *\n",
      "       1.1497)\n",
      "1 1000 tensor(1.00000e-02 *\n",
      "       1.6879)\n",
      "1 2000 tensor(1.00000e-03 *\n",
      "       9.5245)\n",
      "1 3000 tensor(0.1150)\n",
      "1 4000 tensor(1.00000e-02 *\n",
      "       1.9302)\n",
      "1 5000 tensor(1.00000e-03 *\n",
      "       8.3531)\n",
      "1 6000 tensor(1.00000e-03 *\n",
      "       3.4639)\n",
      "1 7000 tensor(1.00000e-03 *\n",
      "       7.4067)\n",
      "1 8000 tensor(1.00000e-03 *\n",
      "       3.7039)\n",
      "1 9000 tensor(1.00000e-02 *\n",
      "       1.0318)\n",
      "2 0 tensor(1.00000e-02 *\n",
      "       1.0443)\n",
      "2 1000 tensor(1.00000e-02 *\n",
      "       1.6991)\n",
      "2 2000 tensor(1.00000e-03 *\n",
      "       8.5068)\n",
      "2 3000 tensor(1.00000e-02 *\n",
      "       9.3452)\n",
      "2 4000 tensor(1.00000e-02 *\n",
      "       1.8324)\n",
      "2 5000 tensor(1.00000e-03 *\n",
      "       8.0252)\n",
      "2 6000 tensor(1.00000e-03 *\n",
      "       3.6790)\n",
      "2 7000 tensor(1.00000e-03 *\n",
      "       6.9584)\n",
      "2 8000 tensor(1.00000e-03 *\n",
      "       3.4589)\n",
      "2 9000 tensor(1.00000e-03 *\n",
      "       9.8862)\n"
     ]
    }
   ],
   "source": [
    "for epoch in range(3):\n",
    "    for i, [x, y] in enumerate(train_loader):\n",
    "        optimizer.zero_grad()\n",
    "        y_pred = model(x)\n",
    "        loss = loss_func(y_pred, y)\n",
    "        loss.backward()\n",
    "        optimizer.step()\n",
    "    \n",
    "        if i % 1000 == 0:\n",
    "            print(epoch, i, loss)  "
   ]
  },
  {
   "cell_type": "code",
   "execution_count": 26,
   "metadata": {},
   "outputs": [],
   "source": [
    "torch.save(model.state_dict(),'./DNN.pth')"
   ]
  },
  {
   "cell_type": "code",
   "execution_count": 13,
   "metadata": {},
   "outputs": [],
   "source": [
    "model=Model()\n",
    "model.load_state_dict(torch.load('./Dnn.pth'))"
   ]
  },
  {
   "cell_type": "code",
   "execution_count": 38,
   "metadata": {},
   "outputs": [
    {
     "name": "stdout",
     "output_type": "stream",
     "text": [
      "tensor([[ 2.5099e-03],\n",
      "        [ 8.5264e-03],\n",
      "        [ 1.5822e-02],\n",
      "        ...,\n",
      "        [ 3.5140e-01],\n",
      "        [ 7.3089e-02],\n",
      "        [ 4.0721e-02]])\n"
     ]
    },
    {
     "data": {
      "text/plain": [
       "torch.Size([804684, 1])"
      ]
     },
     "execution_count": 38,
     "metadata": {},
     "output_type": "execute_result"
    }
   ],
   "source": [
    "out = model(x_test)\n",
    "print(out)\n",
    "out.size()"
   ]
  },
  {
   "cell_type": "code",
   "execution_count": 40,
   "metadata": {},
   "outputs": [],
   "source": [
    "out = out.view(-1)"
   ]
  },
  {
   "cell_type": "code",
   "execution_count": 41,
   "metadata": {},
   "outputs": [
    {
     "data": {
      "text/plain": [
       "tensor([ 2.5099e-03,  8.5264e-03,  1.5822e-02,  ...,  3.5140e-01,\n",
       "         7.3089e-02,  4.0721e-02])"
      ]
     },
     "execution_count": 41,
     "metadata": {},
     "output_type": "execute_result"
    }
   ],
   "source": [
    "out"
   ]
  },
  {
   "cell_type": "code",
   "execution_count": 42,
   "metadata": {},
   "outputs": [],
   "source": [
    "import numpy as np"
   ]
  },
  {
   "cell_type": "code",
   "execution_count": 43,
   "metadata": {},
   "outputs": [],
   "source": [
    "result = out.data.numpy()"
   ]
  },
  {
   "cell_type": "code",
   "execution_count": 45,
   "metadata": {},
   "outputs": [],
   "source": [
    "result = pd.Series(result)"
   ]
  },
  {
   "cell_type": "code",
   "execution_count": 17,
   "metadata": {},
   "outputs": [],
   "source": [
    "test = pd.read_csv('../data/test.csv', dtype={'fullVisitorId': str} )"
   ]
  },
  {
   "cell_type": "code",
   "execution_count": 49,
   "metadata": {},
   "outputs": [],
   "source": [
    "ID=test['fullVisitorId']"
   ]
  },
  {
   "cell_type": "code",
   "execution_count": 50,
   "metadata": {},
   "outputs": [],
   "source": [
    "submission = pd.concat([ID, result], axis=1)"
   ]
  },
  {
   "cell_type": "code",
   "execution_count": 60,
   "metadata": {},
   "outputs": [],
   "source": [
    "submission = submission.rename(index = str, columns={0:'PredictedLogRevenue'})"
   ]
  },
  {
   "cell_type": "code",
   "execution_count": 63,
   "metadata": {},
   "outputs": [],
   "source": [
    "submission= submission.groupby(by='fullVisitorId').sum().reset_index()"
   ]
  },
  {
   "cell_type": "code",
   "execution_count": 64,
   "metadata": {},
   "outputs": [
    {
     "data": {
      "text/plain": [
       "(617242, 2)"
      ]
     },
     "execution_count": 64,
     "metadata": {},
     "output_type": "execute_result"
    }
   ],
   "source": [
    "submission.shape"
   ]
  },
  {
   "cell_type": "code",
   "execution_count": 65,
   "metadata": {},
   "outputs": [],
   "source": [
    "submission .to_csv('../data/submission_DNN_1009.csv', index=False)"
   ]
  },
  {
   "cell_type": "code",
   "execution_count": null,
   "metadata": {},
   "outputs": [],
   "source": []
  }
 ],
 "metadata": {
  "kernelspec": {
   "display_name": "Python 3",
   "language": "python",
   "name": "python3"
  },
  "language_info": {
   "codemirror_mode": {
    "name": "ipython",
    "version": 3
   },
   "file_extension": ".py",
   "mimetype": "text/x-python",
   "name": "python",
   "nbconvert_exporter": "python",
   "pygments_lexer": "ipython3",
   "version": "3.6.5"
  }
 },
 "nbformat": 4,
 "nbformat_minor": 2
}
